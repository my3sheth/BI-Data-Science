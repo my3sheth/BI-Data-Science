### **TASK 1: Develop a text classification model to classify SMS as either spam or non-spam using data science techniques in Python.**

import pandas as pd

import io
with io.open('SMS Spam Data.csv', 'r', encoding='cp1252') as f:
    data = pd.read_csv(f)

data.sample(5)

# *1. EDA (Exploratory Data Analysis)*

data.shape

data.info()

### ***Observation:***
The last 3 'Unnamed' columns seem to hold only a few values while most are null.

data.drop(columns=['Unnamed: 2','Unnamed: 3','Unnamed: 4'],inplace=True)
data.sample(5)

data.rename(columns={'v1':'target','v2':'text'},inplace=True)
data.sample(5)

data.isnull().sum()

data.duplicated().sum()

data=data.drop_duplicates(keep='first')

data.duplicated().sum()

data.shape

# *2. Preprocessing*

from sklearn.preprocessing import LabelEncoder
encoder=LabelEncoder()
data['target']=encoder.fit_transform(data['target'])
data.head()

data.head()

data['target'].value_counts()

import matplotlib.pyplot as plt
plt.pie(data['target'].value_counts(), labels=['ham','spam'],autopct='%0.2f')
plt.show()

Now, let's breakdown the 'text' into 3 segments - characters, words and sentences for further analysis.

import nltk
nltk.download('punkt')

data['num_char']=data['text'].apply(len)
data.head()

data['num_words']=data['text'].apply(lambda x:len(nltk.word_tokenize(x)))
data.head()

data['num_sent']=data['text'].apply(lambda x:len(nltk.sent_tokenize(x)))
data.head()

data[['num_char','num_words','num_sent']].describe()

data[data['target']==0][['num_char','num_words','num_sent']].describe()

data[data['target']==1][['num_char','num_words','num_sent']].describe()

Let's visuzalize the data to get quick and clear insights into the newly added segments.

import seaborn as sns
plt.figure(figsize=(10,4))
sns.histplot(data[data['target']==0]['num_char'])
sns.histplot(data[data['target']==1]['num_char'],color='red')

plt.figure(figsize=(10,4))
sns.histplot(data[data['target']==0]['num_words'])
sns.histplot(data[data['target']==1]['num_words'],color='red')

sns.pairplot(data,hue='target')

sns.heatmap(data.corr(),annot=True)

from nltk.corpus import stopwords
from nltk.
stem.porter import PorterStemmer
import string
nltk.download('stopwords')
ps=PorterStemmer()

def transform_text(text):
  text=text.lower()
  text=nltk.word_tokenize(text)
  y=[]
  for i in text:
    if i.isalnum():
      y.append(i)
  text=y[:]
  y.clear()

  for i in text:
    if i not in stopwords.words('english') and i not in string.punctuation:
      y.append(i)
  text=y[:]
  y.clear()

  for i in text:
    y.append(ps.stem(i))

  return " ".join(y)

transformed_text=transform_text("I'm gonna be home soon and i don't want to talk about this stuff anymore tonight, k? i've cried enough today")
print(transformed_text)

data['text'][10]

from nltk.stem.porter import PorterStemmer
ps=PorterStemmer()
ps.stem('loving')

data['transformed_text']=data['text'].apply(transform_text)
data.head()

from wordcloud import WordCloud
wc=WordCloud(width=500,height=500,min_font_size=10,background_color='white')
spam_wc=wc.generate(data[data['target']==1]['transformed_text'].str.cat(sep=''))
plt.figure(figsize=(10,4))
plt.imshow(spam_wc)

ham_wc=wc.generate(data[data['target']==0]['transformed_text'].str.cat(sep=''))
plt.figure(figsize=(10,4))
plt.imshow(ham_wc)

data.head()

spam_corpus=[]
for msg in data[data['target']==1]['transformed_text'].tolist():
  for word in msg.split():
    spam_corpus.append(word)
len(spam_corpus)

from collections import Counter
spam_counter = Counter(spam_corpus)
most_common_items = spam_counter.most_common(30)
df_most_common = pd.DataFrame(most_common_items, columns=['Item', 'Count'])
sns.barplot(x='Item', y='Count', data=df_most_common)
plt.xticks(rotation='vertical')
plt.show()

ham_corpus=[]
for msg in data[data['target']==0]['transformed_text'].tolist():
  for word in msg.split():
    ham_corpus.append(word)
len(ham_corpus)

ham_counter = Counter(ham_corpus)
most_common_items = ham_counter.most_common(30)
df_most_common = pd.DataFrame(most_common_items, columns=['Item', 'Count'])
sns.barplot(x='Item', y='Count', data=df_most_common)
plt.xticks(rotation='vertical')
plt.show()

data.head()

# *3. Building the Model*

from sklearn. feature_extraction.text import CountVectorizer, TfidfVectorizer
cv=CountVectorizer()
tfidf=TfidfVectorizer(max_features=3000)
X=tfidf.fit_transform(data ['transformed_text'] ).toarray()

X.shape

y=data['target'].values
from sklearn.model_selection import train_test_split
X_train, X_test,y_train,y_test = train_test_split(X, y, test_size=0.2, random_state=2)

from sklearn.naive_bayes import GaussianNB, MultinomialNB,BernoulliNB
from sklearn.metrics import accuracy_score, confusion_matrix, precision_score
gnb=GaussianNB()
mnb=MultinomialNB()
bnb=BernoulliNB()
gnb.fit (X_train,y_train)
y_pred1=gnb.predict(X_test)
print(accuracy_score (y_test,y_pred1))
print(confusion_matrix(y_test,y_pred1))
print(precision_score (y_test, y_pred1))

mnb.fit (X_train,y_train)
y_pred2 = mnb.predict(X_test)
print(accuracy_score(y_test, y_pred2))
print(confusion_matrix(y_test,y_pred2))
print(precision_score(y_test,y_pred2))

bnb.fit(X_train,y_train)
y_pred3=bnb.predict(X_test)
print(accuracy_score(y_test,y_pred3))
print(confusion_matrix(y_test,y_pred3))
print(precision_score(y_test,y_pred3))

from sklearn.linear_model import LogisticRegression
from sklearn.svm import SVC
from sklearn.naive_bayes import MultinomialNB
from sklearn.tree import DecisionTreeClassifier
from sklearn.neighbors import KNeighborsClassifier
from sklearn.ensemble import RandomForestClassifier
from sklearn.ensemble import AdaBoostClassifier
from sklearn.ensemble import BaggingClassifier
from sklearn.ensemble import ExtraTreesClassifier
from sklearn.ensemble import GradientBoostingClassifier
from xgboost import XGBClassifier
svc=SVC(kernel='sigmoid', gamma=1.0)
knc=KNeighborsClassifier()
mnb=MultinomialNB()
dtc=DecisionTreeClassifier(max_depth=5)
lrc=LogisticRegression(solver='liblinear', penalty='l1')
rfc=RandomForestClassifier(n_estimators=50, random_state=2)
abc=AdaBoostClassifier(n_estimators=50, random_state=2)
bc=BaggingClassifier(n_estimators=50, random_state=2)
etc=ExtraTreesClassifier(n_estimators=50, random_state=2)
gbdt=GradientBoostingClassifier(n_estimators=50, random_state=2)
xgb=XGBClassifier(n_estimators=50, random_state=2)

clfs={
'SVC' : svc,
'KN': knc,
'NB': mnb,
'DT': dtc,
'LR': lrc,
'RF': rfc,
'AdaBoost': abc,
'BgC': bc,
'ETC': etc,
'GBDT' : gbdt,
'xgb' :xgb
}

def train_classifier(clf, X_train, y_train, X_test, y_test):
    clf.fit(X_train, y_train)
    y_pred = clf.predict(X_test)
    accuracy = accuracy_score(y_test, y_pred)
    precision = precision_score(y_test, y_pred)
    return accuracy, precision

train_classifier(svc,X_train,y_train,X_test,y_test)

accuracy_scores = []
precision_scores = []
for name, clf in clfs.items():
  current_accuracy, current_precision = train_classifier (clf, X_train,y_train,X_test,y_test)
  print("For ", name)
  print("Accuracy - ", current_accuracy)
  print("Precision - ", current_precision)
  accuracy_scores.append (current_accuracy)
  precision_scores.append (current_precision)

performance_df = pd.DataFrame({'Algorithm': clfs.keys (), 'Accuracy' : accuracy_scores, 'Precision': precision_scores}).sort_values('Precision', ascending=False)
performance_df

performance_df1 = pd. melt (performance_df, id_vars="Algorithm")
performance_df1

sns.catplot (x = 'Algorithm', y='value',
             hue='variable', data=performance_df1, kind='bar', height=5)
plt.ylim (0.5,1.0)
plt.xticks (rotation='vertical')
plt.show()

temp_df=pd.DataFrame({'Algorithm': clfs.keys (), 'Accuracy_max_ft_3000': accuracy_scores, 'Precision_max_ft_3000': precision_scores}).sort_values('Precision_max_ft_3000', ascending=False)
new_df = performance_df.merge (temp_df, on='Algorithm')
new_df_scaled = new_df.merge (temp_df, on='Algorithm')

temp_df = pd.DataFrame({'Algorithm' : clfs.keys (), 'Accuracy_num_chars': accuracy_scores, 'Precision_num_chars' : precision_scores}).sort_values('Precision_num_chars', ascending=False)

new_df_scaled.merge(temp_df,on='Algorithm')

svc=SVC(kernel='sigmoid',gamma=1.0,probability=True)
mnb=MultinomialNB()
etc=ExtraTreesClassifier(n_estimators=50, random_state=2)
from sklearn.ensemble import VotingClassifier
voting=VotingClassifier(estimators=[('svm',svc),('nb',mnb),('et',etc)],voting='soft')
voting.fit(X_train,y_train)

y_pred=voting.predict(X_test)
print("Accuracy",accuracy_score(y_test,y_pred))
print("Precision",precision_score(y_test,y_pred))

estimators=[('svm',svc),('nb',mnb),('et',etc)]
final_estimator=RandomForestClassifier()
from sklearn.ensemble import StackingClassifier
clf=StackingClassifier(estimators=estimators,final_estimator=final_estimator)
clf.fit(X_train,y_train)
y_pred=clf.predict(X_test)
print("Accuracy",accuracy_score(y_test,y_pred))
print("Precision",precision_score(y_test,y_pred))

user_input=input("Enter an SMS:")
transformed_user_input=transform_text(user_input)
user_input_vectorized=tfidf.transform([transformed_user_input]).toarray()
prediction=clf.predict(user_input_vectorized)
if prediction==1:
    print("The SMS is classified as spam.")
else:
    print("The SMS is classified as non-spam.")

user_input=input("Enter an SMS:")
transformed_user_input=transform_text(user_input)
user_input_vectorized=tfidf.transform([transformed_user_input]).toarray()
prediction=clf.predict(user_input_vectorized)
if prediction==1:
    print("The SMS is classified as spam.")
else:
    print("The SMS is classified as non-spam.")
