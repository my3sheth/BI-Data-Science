### **TASK 2: Build a predictive model to determine the likelihood of survival for passengers on the Titanic using data science techniques in Python.**

import pandas as pd
data=pd.read_csv('/content/Titanic Prediction.csv')

data.sample(5)

data.rename(columns={'Parch':'ParCh'},inplace=True)

# *1. EDA (Exploratory Data Analysis)*

data.shape

data.info()

### ***Observation:***
There are no null values in the dataset.

data.isnull().sum()

data.duplicated().sum()

# *2. Preprocessing and Building the Model*

data.head()

data=data.drop('PassengerId', axis=1)

from sklearn.model_selection import train_test_split
X = data.drop('Survived', axis=1)
y = data['Survived']

numerical_features = X.select_dtypes(include=['int64', 'float64']).columns
categorical_features = X.select_dtypes(include=['object']).columns

data.sample(5)

from sklearn.pipeline import Pipeline
from sklearn.impute import SimpleImputer
from sklearn.preprocessing import OneHotEncoder, StandardScaler
numerical_transformer = Pipeline(steps=[('imputer', SimpleImputer(strategy='median')),('scaler', StandardScaler())])
categorical_transformer = Pipeline(steps=[('imputer', SimpleImputer(strategy='most_frequent')),('onehot', OneHotEncoder(handle_unknown='ignore'))])

from sklearn.compose import ColumnTransformer
preprocessor = ColumnTransformer(transformers=[('num', numerical_transformer, numerical_features),('cat', categorical_transformer, categorical_features)])

data.sample(5)

data['Survived'].value_counts()

import matplotlib.pyplot as plt
plt.pie(data['Survived'].value_counts(), labels=['no','yes'],autopct='%0.2f')
plt.show()

data.head()

X_train, X_test, y_train, y_test = train_test_split(X, y, test_size=0.2, random_state=42)

X.shape

from sklearn.ensemble import RandomForestClassifier, GradientBoostingClassifier, ExtraTreesClassifier
from sklearn.tree import DecisionTreeClassifier
from sklearn.neighbors import KNeighborsClassifier
from sklearn.svm import SVC
from sklearn.linear_model import LogisticRegression
from sklearn.metrics import accuracy_score, precision_score, confusion_matrix, classification_report

models = {
    'Logistic Regression': LogisticRegression(random_state=42),
    'Support Vector Machine': SVC(random_state=42),
    'Random Forest': RandomForestClassifier(random_state=42),
    'Gradient Boosting': GradientBoostingClassifier(random_state=42),
    'Decision Tree': DecisionTreeClassifier(random_state=42),
    'K-Nearest Neighbors': KNeighborsClassifier(),
    'Extra Trees': ExtraTreesClassifier(random_state=42)
}

best_model = None
best_accuracy = 0

for name, model in models.items():
    model_pipeline = Pipeline(steps=[('preprocessor', preprocessor), ('classifier', model)])
    model_pipeline.fit(X_train, y_train)
    y_pred = model_pipeline.predict(X_test)

    accuracy = accuracy_score(y_test, y_pred)
    precision = precision_score(y_test, y_pred)

    print(f"Model: {name}")
    print(f"Accuracy: {accuracy:.2f} \n")
    print(f"Precision: {precision:.2f} \n")
    print("Confusion Matrix:")
    print(confusion_matrix(y_test, y_pred),"\n")
    print("Classification Report:")
    print(classification_report(y_test, y_pred),'\n')
    print("=" * 50)

    if accuracy > best_accuracy:
        best_accuracy = accuracy
        best_model = model_pipeline

print(f"The best model is {type(best_model.named_steps['classifier']).__name__} with an accuracy of {best_accuracy:.2f}")

selected_columns = ['Pclass', 'Sex', 'Age', 'SibSp', 'ParCh', 'Fare', 'Embarked']
user_input_data = data[selected_columns].copy()

print("\nLet's check for survival!\nEnter passenger details:")

pclass = int(input("Pclass (1, 2, or 3): "))
sex = int(input("Sex (0 for female, 1 for male): "))
age = float(input("Age: "))
sibsp = int(input("Siblings/Spouses Aboard: "))
parch = int(input("Parents/Children Aboard: "))
fare = float(input("Fare: "))
embarked = input("Embarked (C, Q, or S): ")
embarked_mapping = {'C': 0, 'Q': 1, 'S': 2}
embarked = embarked_mapping.get(embarked, embarked)

user_input_data = pd.DataFrame({
    'Pclass': [pclass],
    'Sex': [sex],
    'Age': [age],
    'SibSp': [sibsp],
    'ParCh': [parch],
    'Fare': [fare],
    'Embarked': [embarked]
})
user_survival_prediction = best_model.predict(user_input_data)[0]

if user_survival_prediction == 1:
    print("\nThe passenger is predicted to survive!")
else:
    print("\nThe passenger is predicted not to survive.")
